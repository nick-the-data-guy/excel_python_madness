{
 "cells": [
  {
   "cell_type": "code",
   "execution_count": 1,
   "id": "a626cae7",
   "metadata": {},
   "outputs": [],
   "source": [
    "import pandas as pd"
   ]
  },
  {
   "cell_type": "code",
   "execution_count": 43,
   "id": "4b4dab99",
   "metadata": {},
   "outputs": [],
   "source": [
    "import os\n",
    "current_path=os.getcwd()\n",
    "current_path"
   ]
  },
  {
   "cell_type": "code",
   "execution_count": 46,
   "id": "cd2771ae",
   "metadata": {},
   "outputs": [],
   "source": [
    "source_file = \"\\car_data_all_together.xlsx\"\n",
    "source_file=current_path+source_file\n",
    "\n",
    "destination_file = \"\\car_data_all_together_formatted.xlsx\"\n",
    "destination_file = current_path+destination_file"
   ]
  },
  {
   "cell_type": "code",
   "execution_count": 47,
   "id": "1c56e033",
   "metadata": {},
   "outputs": [
    {
     "name": "stdout",
     "output_type": "stream",
     "text": [
      "C:\\Users\\betha\\Documents\\python dictionary playground\\car_data_all_together.xlsx\n"
     ]
    }
   ],
   "source": [
    "print(source_file)\n",
    "excel_file = pd.ExcelFile(source_file)\n",
    "\n",
    "sheets_list = excel_file.sheet_names  \n",
    "# collects all sheet names, throws them into a list\n",
    "\n",
    "# print(sheets_list)\n",
    "excel_file.close() #close excel file\n",
    "\n",
    "\n",
    "\n",
    "\n",
    "for sheet in sheets_list:\n",
    "# this loops through each sheet name\n",
    "\n",
    "#     print(\"Data from sheet:\", sheet)\n",
    "\n",
    "# this passes the current sheet's data into a temp df called 'excel_df'\n",
    "    excel_df = pd.read_excel(source_file, sheet_name = sheet)\n",
    "\n",
    "# 1. this appends the loaded sheet name with 'excel_' and '_df'(ie. excel_convertible_df), and \n",
    "# 2. the temp value of excel_df into it\n",
    "    exec(f\"{sheet}_df = excel_df\")"
   ]
  },
  {
   "cell_type": "code",
   "execution_count": 48,
   "id": "00d5b023",
   "metadata": {},
   "outputs": [],
   "source": [
    "with pd.ExcelWriter(destination_file) as writer:\n",
    "    for sheet in sheets_list:\n",
    "        exec(f\"{sheet}_df.to_excel(writer, sheet_name=sheet, index=False)\")\n",
    "#     merge_df.to_excel(writer, sheet_name=\"Merge\")"
   ]
  },
  {
   "cell_type": "code",
   "execution_count": 49,
   "id": "f9b5f311",
   "metadata": {},
   "outputs": [],
   "source": [
    "import xlsxwriter\n",
    "\n",
    "# Create a Pandas Excel writer using XlsxWriter as the engine.\n",
    "writer = pd.ExcelWriter(destination_file, engine='xlsxwriter')\n",
    "workbook = writer.book\n",
    "\n",
    "# write each dataframe to its own sheet\n",
    "for sheet in sheets_list:\n",
    "    exec(f\"{sheet}_df.to_excel(writer, sheet_name=sheet, startrow=0,  index=False)\")\n",
    "    \n",
    "    # Get the xlsxwriter worksheet for the current sheet\n",
    "    worksheet = writer.sheets[f\"{sheet}\"]\n",
    "    \n",
    "    # Get the dimensions of the dataframe.\n",
    "    df_shape = convertible_df.shape\n",
    "    max_row=df_shape[0]\n",
    "    max_col=df_shape[1]\n",
    "    \n",
    "#     turn on data filtering\n",
    "    worksheet.autofilter(0, 0, max_row, max_col-1)\n",
    "\n",
    "#     freeze top row\n",
    "    worksheet.freeze_panes(1,0)\n",
    "    \n",
    "    #destroy the dataframe shape tuple\n",
    "    del df_shape\n",
    "    \n",
    "writer.close()"
   ]
  }
 ],
 "metadata": {
  "kernelspec": {
   "display_name": "Python 3 (ipykernel)",
   "language": "python",
   "name": "python3"
  },
  "language_info": {
   "codemirror_mode": {
    "name": "ipython",
    "version": 3
   },
   "file_extension": ".py",
   "mimetype": "text/x-python",
   "name": "python",
   "nbconvert_exporter": "python",
   "pygments_lexer": "ipython3",
   "version": "3.9.13"
  }
 },
 "nbformat": 4,
 "nbformat_minor": 5
}
